{
  "nbformat": 4,
  "nbformat_minor": 0,
  "metadata": {
    "colab": {
      "name": "epicalekspwner_1.ipynb",
      "provenance": [],
      "collapsed_sections": []
    },
    "kernelspec": {
      "name": "python3",
      "display_name": "Python 3"
    },
    "language_info": {
      "name": "python"
    }
  },
  "cells": [
    {
      "cell_type": "markdown",
      "metadata": {
        "id": "z-H4Fqs1XEL3"
      },
      "source": [
        "# **Big-Scale Analytics**"
      ]
    },
    {
      "cell_type": "markdown",
      "metadata": {
        "id": "DjUgc_snXMtx"
      },
      "source": [
        "### 🤪 **epicalekspwner** 🤪"
      ]
    },
    {
      "cell_type": "code",
      "metadata": {
        "id": "o_OStaYLXMH_"
      },
      "source": [
        "import pandas as pd\n",
        "import numpy as np\n",
        "import matplotlib\n",
        "import matplotlib.pyplot as plt\n",
        "import seaborn as sns\n",
        "from sklearn.pipeline import FeatureUnion\n",
        "%matplotlib inline\n",
        "%config InlineBackend.figure_format = 'retina'"
      ],
      "execution_count": null,
      "outputs": []
    },
    {
      "cell_type": "code",
      "metadata": {
        "id": "CfSuKMgAXIFq"
      },
      "source": [
        "Phrases = pd.read_csv('https://raw.githubusercontent.com/epicalekspwner/BigScaleAnalytics2021/main/Datasets/Phrasee.txt?token=ARERL5C5TPKS3OS3BT45LBTAQBMVK', delimiter = \"\\t\")\n",
        "Niveau = pd.read_csv('https://raw.githubusercontent.com/epicalekspwner/BigScaleAnalytics2021/main/Datasets/Niveau.txt?token=ARERL5DPZFCUCVYD7L3ULODAQBMXA', delimiter = \"\\t\")\n",
        "Data = pd.DataFrame()\n",
        "Data[\"Phrases\"] = Phrases[\"Phrases\"]\n",
        "Data[\"Niveau\"] = Niveau[\"Type (Maxime)\"]"
      ],
      "execution_count": null,
      "outputs": []
    },
    {
      "cell_type": "markdown",
      "metadata": {
        "id": "WR4M3iUGnMTx"
      },
      "source": [
        "### **Sentence Lenght**"
      ]
    },
    {
      "cell_type": "code",
      "metadata": {
        "id": "UfBvOS2pnVr7"
      },
      "source": [
        "# Note: you may have to change the dataset/column name"
      ],
      "execution_count": null,
      "outputs": []
    },
    {
      "cell_type": "code",
      "metadata": {
        "id": "QxCcziDWiQ3H"
      },
      "source": [
        "def sentence_lenght(dataset):\n",
        "  punctation_list = ['.', ';', ':', '?', '!', ',', '-', '[', ']']\n",
        "  \n",
        "  new_dataset = dataset['Phrases'].str.split()\n",
        "  for i in new_dataset:\n",
        "    if i in punctation_list:\n",
        "      new_dataset.remove(i)\n",
        "\n",
        "  lenght = new_dataset.apply(len)\n",
        "  lenght_df = lenght.to_frame()\n",
        "  lenght_df.rename(columns={'Phrases': 'Sentence Lenght'}, inplace=True)\n",
        "  return lenght_df"
      ],
      "execution_count": null,
      "outputs": []
    },
    {
      "cell_type": "code",
      "metadata": {
        "colab": {
          "base_uri": "https://localhost:8080/",
          "height": 419
        },
        "id": "kk1FKBLEkL3z",
        "outputId": "a3f79912-bae4-48fe-b000-5516d2ca9a6e"
      },
      "source": [
        "sentence_lenght(Data)"
      ],
      "execution_count": null,
      "outputs": [
        {
          "output_type": "execute_result",
          "data": {
            "text/html": [
              "<div>\n",
              "<style scoped>\n",
              "    .dataframe tbody tr th:only-of-type {\n",
              "        vertical-align: middle;\n",
              "    }\n",
              "\n",
              "    .dataframe tbody tr th {\n",
              "        vertical-align: top;\n",
              "    }\n",
              "\n",
              "    .dataframe thead th {\n",
              "        text-align: right;\n",
              "    }\n",
              "</style>\n",
              "<table border=\"1\" class=\"dataframe\">\n",
              "  <thead>\n",
              "    <tr style=\"text-align: right;\">\n",
              "      <th></th>\n",
              "      <th>Sentence lenght</th>\n",
              "    </tr>\n",
              "  </thead>\n",
              "  <tbody>\n",
              "    <tr>\n",
              "      <th>0</th>\n",
              "      <td>15</td>\n",
              "    </tr>\n",
              "    <tr>\n",
              "      <th>1</th>\n",
              "      <td>23</td>\n",
              "    </tr>\n",
              "    <tr>\n",
              "      <th>2</th>\n",
              "      <td>24</td>\n",
              "    </tr>\n",
              "    <tr>\n",
              "      <th>3</th>\n",
              "      <td>6</td>\n",
              "    </tr>\n",
              "    <tr>\n",
              "      <th>4</th>\n",
              "      <td>10</td>\n",
              "    </tr>\n",
              "    <tr>\n",
              "      <th>...</th>\n",
              "      <td>...</td>\n",
              "    </tr>\n",
              "    <tr>\n",
              "      <th>1025</th>\n",
              "      <td>133</td>\n",
              "    </tr>\n",
              "    <tr>\n",
              "      <th>1026</th>\n",
              "      <td>127</td>\n",
              "    </tr>\n",
              "    <tr>\n",
              "      <th>1027</th>\n",
              "      <td>132</td>\n",
              "    </tr>\n",
              "    <tr>\n",
              "      <th>1028</th>\n",
              "      <td>148</td>\n",
              "    </tr>\n",
              "    <tr>\n",
              "      <th>1029</th>\n",
              "      <td>96</td>\n",
              "    </tr>\n",
              "  </tbody>\n",
              "</table>\n",
              "<p>1030 rows × 1 columns</p>\n",
              "</div>"
            ],
            "text/plain": [
              "      Sentence lenght\n",
              "0                  15\n",
              "1                  23\n",
              "2                  24\n",
              "3                   6\n",
              "4                  10\n",
              "...               ...\n",
              "1025              133\n",
              "1026              127\n",
              "1027              132\n",
              "1028              148\n",
              "1029               96\n",
              "\n",
              "[1030 rows x 1 columns]"
            ]
          },
          "metadata": {
            "tags": []
          },
          "execution_count": 118
        }
      ]
    },
    {
      "cell_type": "markdown",
      "metadata": {
        "id": "_j7IczRZnxJP"
      },
      "source": [
        "### **Punctuation Counter**"
      ]
    },
    {
      "cell_type": "code",
      "metadata": {
        "id": "m-cpKjG8WGkp"
      },
      "source": [
        "# Note: you may have to change the dataset/column name"
      ],
      "execution_count": null,
      "outputs": []
    },
    {
      "cell_type": "code",
      "metadata": {
        "id": "WyMr2_yRn1vi"
      },
      "source": [
        "def punctuation_counter_standalone(sentence):  \n",
        "  counter = 0\n",
        "  punctation_list = ['.', ';', ':', '?', '!', ',', '-', '[', ']']\n",
        "  for i in range (0, len(sentence)):\n",
        "    if sentence[i] in punctation_list:\n",
        "      counter += 1\n",
        "  return counter"
      ],
      "execution_count": null,
      "outputs": []
    },
    {
      "cell_type": "code",
      "metadata": {
        "id": "l5PEDE4fpjBC"
      },
      "source": [
        "sent1 = \"J’avais juré de laisser là les nonnes : car que toujours on voie en mes écrits, même sujet, et semblables personnes, cela pourrait fatiguer les esprits.\""
      ],
      "execution_count": null,
      "outputs": []
    },
    {
      "cell_type": "code",
      "metadata": {
        "id": "YVh7LiLpq-1E",
        "colab": {
          "base_uri": "https://localhost:8080/"
        },
        "outputId": "ead9cb7e-1ce8-405d-ec7d-135519e1f356"
      },
      "source": [
        "punctuation_counter_standalone(sent1)"
      ],
      "execution_count": null,
      "outputs": [
        {
          "output_type": "execute_result",
          "data": {
            "text/plain": [
              "5"
            ]
          },
          "metadata": {
            "tags": []
          },
          "execution_count": 121
        }
      ]
    },
    {
      "cell_type": "code",
      "metadata": {
        "id": "wy7YXUfMVUdW"
      },
      "source": [
        "def punctuation_counter(dataset):\n",
        "  counter = Data['Phrases'].apply(lambda x : punctuation_counter_standalone(x))\n",
        "  counter_df = counter.to_frame()\n",
        "  counter_df.rename(columns={'Phrases': 'Punctuation Counter'}, inplace=True)\n",
        "  return counter_df"
      ],
      "execution_count": null,
      "outputs": []
    },
    {
      "cell_type": "code",
      "metadata": {
        "colab": {
          "base_uri": "https://localhost:8080/",
          "height": 419
        },
        "id": "N6mxqOcVKnbp",
        "outputId": "143c1b9b-d2a9-4d15-c464-fed07c560262"
      },
      "source": [
        "punctuation_counter(Data)"
      ],
      "execution_count": null,
      "outputs": [
        {
          "output_type": "execute_result",
          "data": {
            "text/html": [
              "<div>\n",
              "<style scoped>\n",
              "    .dataframe tbody tr th:only-of-type {\n",
              "        vertical-align: middle;\n",
              "    }\n",
              "\n",
              "    .dataframe tbody tr th {\n",
              "        vertical-align: top;\n",
              "    }\n",
              "\n",
              "    .dataframe thead th {\n",
              "        text-align: right;\n",
              "    }\n",
              "</style>\n",
              "<table border=\"1\" class=\"dataframe\">\n",
              "  <thead>\n",
              "    <tr style=\"text-align: right;\">\n",
              "      <th></th>\n",
              "      <th>Punctuation Counter</th>\n",
              "    </tr>\n",
              "  </thead>\n",
              "  <tbody>\n",
              "    <tr>\n",
              "      <th>0</th>\n",
              "      <td>1</td>\n",
              "    </tr>\n",
              "    <tr>\n",
              "      <th>1</th>\n",
              "      <td>1</td>\n",
              "    </tr>\n",
              "    <tr>\n",
              "      <th>2</th>\n",
              "      <td>3</td>\n",
              "    </tr>\n",
              "    <tr>\n",
              "      <th>3</th>\n",
              "      <td>1</td>\n",
              "    </tr>\n",
              "    <tr>\n",
              "      <th>4</th>\n",
              "      <td>2</td>\n",
              "    </tr>\n",
              "    <tr>\n",
              "      <th>...</th>\n",
              "      <td>...</td>\n",
              "    </tr>\n",
              "    <tr>\n",
              "      <th>1025</th>\n",
              "      <td>17</td>\n",
              "    </tr>\n",
              "    <tr>\n",
              "      <th>1026</th>\n",
              "      <td>11</td>\n",
              "    </tr>\n",
              "    <tr>\n",
              "      <th>1027</th>\n",
              "      <td>12</td>\n",
              "    </tr>\n",
              "    <tr>\n",
              "      <th>1028</th>\n",
              "      <td>15</td>\n",
              "    </tr>\n",
              "    <tr>\n",
              "      <th>1029</th>\n",
              "      <td>11</td>\n",
              "    </tr>\n",
              "  </tbody>\n",
              "</table>\n",
              "<p>1030 rows × 1 columns</p>\n",
              "</div>"
            ],
            "text/plain": [
              "      Punctuation Counter\n",
              "0                       1\n",
              "1                       1\n",
              "2                       3\n",
              "3                       1\n",
              "4                       2\n",
              "...                   ...\n",
              "1025                   17\n",
              "1026                   11\n",
              "1027                   12\n",
              "1028                   15\n",
              "1029                   11\n",
              "\n",
              "[1030 rows x 1 columns]"
            ]
          },
          "metadata": {
            "tags": []
          },
          "execution_count": 133
        }
      ]
    }
  ]
}