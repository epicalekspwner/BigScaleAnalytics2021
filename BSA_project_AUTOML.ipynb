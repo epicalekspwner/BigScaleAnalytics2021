{
  "nbformat": 4,
  "nbformat_minor": 0,
  "metadata": {
    "colab": {
      "name": "BSA_project_AUTOML.ipynb",
      "provenance": [],
      "collapsed_sections": [],
      "authorship_tag": "ABX9TyNsHpaTPGbp3PODsQYC49QO",
      "include_colab_link": true
    },
    "kernelspec": {
      "name": "python3",
      "display_name": "Python 3"
    },
    "language_info": {
      "name": "python"
    }
  },
  "cells": [
    {
      "cell_type": "markdown",
      "metadata": {
        "id": "view-in-github",
        "colab_type": "text"
      },
      "source": [
        "<a href=\"https://colab.research.google.com/github/epicalekspwner/BigScaleAnalytics2021/blob/main/BSA_project_AUTOML.ipynb\" target=\"_parent\"><img src=\"https://colab.research.google.com/assets/colab-badge.svg\" alt=\"Open In Colab\"/></a>"
      ]
    },
    {
      "cell_type": "markdown",
      "metadata": {
        "id": "eMX_pc0iXYzn"
      },
      "source": [
        "# Natural Language on Google Cloud"
      ]
    },
    {
      "cell_type": "markdown",
      "metadata": {
        "id": "1H8pFAc3XjJm"
      },
      "source": [
        "Hi !\n",
        "\n",
        "Are you learning French? If yes this notebook is for you !\n",
        "\n",
        "Steps to follow:\n",
        "\n",
        "1. Run all the libraries\n",
        "2. Enter your sentence"
      ]
    },
    {
      "cell_type": "markdown",
      "metadata": {
        "id": "BDa89QASYwFf"
      },
      "source": [
        "Now you can enter whatever phrase in French and our model will predict its level for you !"
      ]
    },
    {
      "cell_type": "code",
      "metadata": {
        "colab": {
          "base_uri": "https://localhost:8080/"
        },
        "id": "KSoqvdwzJvsu",
        "outputId": "694a488f-a511-4ae4-d93d-cbf5ac048429"
      },
      "source": [
        "#Run me\n",
        "\n",
        "phrase = str(input(\"Please enter your French sentence: \"))"
      ],
      "execution_count": null,
      "outputs": [
        {
          "output_type": "stream",
          "text": [
            "Please enter your French sentence: Bonjour à toi cher passionné de Français; serais-tu intéressé par la prédiction du niveau d'une phrase en Français?\n"
          ],
          "name": "stdout"
        }
      ]
    },
    {
      "cell_type": "markdown",
      "metadata": {
        "id": "N9riYe9zY92e"
      },
      "source": [
        "## Libraries and account info"
      ]
    },
    {
      "cell_type": "markdown",
      "metadata": {
        "id": "aExtMLs4Zr4P"
      },
      "source": [
        "In this part you will need to enter the google account info !"
      ]
    },
    {
      "cell_type": "code",
      "metadata": {
        "id": "ItHOQTtqCu8l"
      },
      "source": [
        "!pip install google-cloud-automl"
      ],
      "execution_count": null,
      "outputs": []
    },
    {
      "cell_type": "code",
      "metadata": {
        "id": "qRL7K4EGxbCz"
      },
      "source": [
        "!gcloud auth login"
      ],
      "execution_count": null,
      "outputs": []
    },
    {
      "cell_type": "code",
      "metadata": {
        "id": "j4y-nNoKMI3z"
      },
      "source": [
        "!gcloud config set project project-bigscale"
      ],
      "execution_count": null,
      "outputs": []
    },
    {
      "cell_type": "code",
      "metadata": {
        "id": "0O595LLtNE5L"
      },
      "source": [
        "from google.colab import drive\n",
        "drive.mount('/content/gdrive')\n",
        "\n",
        "#ensure the file is accessible\n",
        "!ls /content/gdrive/'My Drive'\n",
        "\n",
        "import os\n",
        "os.environ[\"GOOGLE_APPLICATION_CREDENTIALS\"]=\"/content/gdrive/My Drive/project-bigscale-4f47b8bd1639.json\"\n",
        "\n",
        "#ensure the path is set correctly\n",
        "!echo $GOOGLE_APPLICATION_CREDENTIALS"
      ],
      "execution_count": null,
      "outputs": []
    },
    {
      "cell_type": "markdown",
      "metadata": {
        "id": "VQLxvu0GZNEX"
      },
      "source": [
        "## 2) Calling our model"
      ]
    },
    {
      "cell_type": "code",
      "metadata": {
        "id": "8RbwchbHCeac"
      },
      "source": [
        "import sys\n",
        "\n",
        "from google.api_core.client_options import ClientOptions\n",
        "from google.cloud import automl_v1\n",
        "#from google.cloud.automl_v1 import proto\n",
        "#from google.cloud.automl_v1.proto import service_pb2\n",
        "\n",
        "def get_prediction(phrase, model_name):\n",
        "  options = ClientOptions(api_endpoint='automl.googleapis.com')\n",
        "  prediction_client = automl_v1.PredictionServiceClient(client_options=options)\n",
        "\n",
        "  payload = {'text_snippet': {'content': phrase, 'mime_type': 'text/plain'} }\n",
        "  # Uncomment the following line (and comment the above line) if want to predict on PDFs.\n",
        "  # payload = pdf_payload(file_path)\n",
        "\n",
        "  params = {}\n",
        "  request = prediction_client.predict(name=model_name, payload=payload, params = params)\n",
        "  return request  # waits until request is returned"
      ],
      "execution_count": null,
      "outputs": []
    },
    {
      "cell_type": "code",
      "metadata": {
        "id": "voKBR26tVRLg"
      },
      "source": [
        "class bcolors:\n",
        "    HEADER = '\\033[95m'\n",
        "    BOLD = '\\033[1m'\n",
        "    UNDERLINE = '\\033[4m'"
      ],
      "execution_count": null,
      "outputs": []
    },
    {
      "cell_type": "code",
      "metadata": {
        "id": "J4wpo4n3SjaC"
      },
      "source": [
        "import numpy as np\n",
        "import matplotlib.pyplot as plt\n",
        "\n",
        "def payload_info(predict):\n",
        "  score_prob =[]\n",
        "  level_prob = []\n",
        "\n",
        "\n",
        "  for i in range(5):\n",
        "    score_prob.append(predict.payload[i].classification.score)\n",
        "    level_prob.append(predict.payload[i].display_name)\n",
        "    plt.bar(level_prob, score_prob)\n",
        "    plt.title('Predicted label probaility')\n",
        "    plt.xlabel('Level')\n",
        "    plt.ylabel('Probability')\n",
        "  print('The predicted label is: ',bcolors.BOLD, bcolors.HEADER,predict.payload[0].display_name, '\\n','\\n')"
      ],
      "execution_count": null,
      "outputs": []
    },
    {
      "cell_type": "markdown",
      "metadata": {
        "id": "WJBu0Q_rZafn"
      },
      "source": [
        "## Results"
      ]
    },
    {
      "cell_type": "code",
      "metadata": {
        "colab": {
          "base_uri": "https://localhost:8080/",
          "height": 346
        },
        "id": "SVR4G24uZcg1",
        "outputId": "ef7cb50b-a384-47cb-86b3-fa5f2d5fb6ce"
      },
      "source": [
        "prediction_info = get_prediction(phrase, 'projects/210867998154/locations/us-central1/models/TCN3846560065913880576')\n",
        "\n",
        "payload_info(prediction_info)"
      ],
      "execution_count": null,
      "outputs": [
        {
          "output_type": "stream",
          "text": [
            "The predicted label is:  \u001b[1m \u001b[95m B1 \n",
            " \n",
            "\n"
          ],
          "name": "stdout"
        },
        {
          "output_type": "display_data",
          "data": {
            "image/png": "[encoded data removed]",
            "text/plain": [
              "<Figure size 432x288 with 1 Axes>"
            ]
          },
          "metadata": {
            "tags": [],
            "needs_background": "light"
          }
        }
      ]
    }
  ]
}